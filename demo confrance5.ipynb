{
 "cells": [
  {
   "cell_type": "markdown",
   "metadata": {},
   "source": [
    "# محرك بحث مترجم من لغة الي اخري\n",
    "## المقدمة:\n",
    "### يستخدم محرك البحث التحليل الدلالي للتحسين نتائج البحث واسترجاع المعلومات للموضوعات ذات العلاقة بالكلمات البحثية\n",
    "## الخطوات\n",
    "استقبال الكلمة المراد البحث عنها من المستخدم \n",
    "ايجاد الكلمات المرادفة لها من المعاجم اللغوية كالوردنت او ايجادها من تحليل الكلمات ذات العلاقة باستخدام\n",
    "word2vecلموسوعة ويكي بديا عربي (بافتراض انالكلمةالمراد البحث عنها  باللغة العربية)\n",
    "البحث عن الكلمة الاصلية \n",
    "ومرادفاتها في الويكي بديا واسترجاع الوثائق المطروحةمن قبل الويكي بديا \n",
    "ترشيح الوثائق المسترجعة من الويكي بديا باستخدام تحليل دلالي مقترح \n",
    "عرض النتائج علي المستخدم\n",
    "\n",
    "  \n"
   ]
  },
  {
   "cell_type": "markdown",
   "metadata": {},
   "source": [
    "## الاعدادات \n",
    "ايجاد كلمات ومرادفاتها من موسوعة لغة عربيه علي الويكي بديا عن طريق \n",
    "Word2vec"
   ]
  },
  {
   "cell_type": "markdown",
   "metadata": {},
   "source": [
    "# Arabic Wrod2vec:\n",
    "\n",
    "تنفيذ Word2Vec لمحتوي ويكي بديا باللغة العربية"
   ]
  },
  {
   "cell_type": "code",
   "execution_count": null,
   "metadata": {
    "collapsed": false
   },
   "outputs": [],
   "source": [
    "##http://textminingonline.com/getting-started-with-word2vec-and-glove-in-python\n",
    "from gensim.models import word2vec\n",
    "\n",
    "ar_sentences = word2vec.Text8Corpus('arwiki-20171201-pages-articles-multistream-index.txt')\n",
    " \n",
    "ar_model = word2vec.Word2Vec(ar_sentences, size=200)\n",
    "ar_model.save('ar_outout.txt')\n"
   ]
  },
  {
   "cell_type": "code",
   "execution_count": null,
   "metadata": {
    "collapsed": false
   },
   "outputs": [],
   "source": [
    "## عرض الكلمات كلها في الموسوعه التي تم التدريب عليها للحصول علي علاقات ترادف بينها وبين بعض \n",
    "#ar_model.wv.vocab"
   ]
  },
  {
   "cell_type": "code",
   "execution_count": null,
   "metadata": {
    "collapsed": false
   },
   "outputs": [],
   "source": [
    "# عرض مثال للكلمات المترادفة لكلمة انسان  كما لو كانت كلمة الله هي المراد البحث عنها في الويكي بديا \n",
    "#  النتائج تخضع للوثائق التي تم تدريبها في هذا النموزج وليست ثابته \n",
    "def synset_W2V(word):\n",
    "    synset_W2V=ar_model.wv.most_similar(word)\n",
    "    return synset_W2V\n",
    "\n",
    "syns_w2v=synset_W2V('الله')\n",
    "syns_w2v"
   ]
  },
  {
   "cell_type": "markdown",
   "metadata": {},
   "source": [
    "## الحصول علي المرادفات من الورد نت \n",
    "الوردنت كقاموس معجمي تظهر فيهالنتائج ثابتة في كل مرة او بتحدث بيناتة \n",
    "يقسم الورد نت الكلمات والعلاقات فيما بينها لعلاقة \n",
    "is-a,has-a,part-of.....etc\n",
    "ويوجد علاقات شجرية بين الكلمات \n",
    "يعتمد علي الورد نت في التحليل الدلالي للكلمات وايجاد العلاقات الدلالية الحقيقية فيما بينها "
   ]
  },
  {
   "cell_type": "code",
   "execution_count": 22,
   "metadata": {
    "collapsed": false
   },
   "outputs": [],
   "source": [
    "import nltk\n",
    "from nltk.corpus import wordnet as wn\n",
    "\n",
    "#nltk.download('omw')\n",
    "def synset_wordnet(word,lang):\n",
    "    return wn.synsets(word, lang=lang)\n",
    "\n",
    "       \n",
    "\n",
    "def lema_name(syn,lang):\n",
    "    return syn.lemma_names(lang)\n",
    "\n"
   ]
  },
  {
   "cell_type": "code",
   "execution_count": 23,
   "metadata": {
    "collapsed": false
   },
   "outputs": [
    {
     "data": {
      "text/plain": [
       "[Synset('deity.n.01'), Synset('allah.n.01')]"
      ]
     },
     "execution_count": 23,
     "metadata": {},
     "output_type": "execute_result"
    }
   ],
   "source": [
    "#مرادفات كلمة الله في الورد نت باللغة الانجليزية\n",
    "syns=synset_wordnet('الله',\"arb\")\n",
    "syns"
   ]
  },
  {
   "cell_type": "code",
   "execution_count": 24,
   "metadata": {
    "collapsed": false
   },
   "outputs": [
    {
     "data": {
      "text/plain": [
       "['الخالِق', 'الرَّبّ', 'الله', 'المعْبُود', 'الواجِد', 'الواحِد']"
      ]
     },
     "execution_count": 24,
     "metadata": {},
     "output_type": "execute_result"
    }
   ],
   "source": [
    "lema_name(syns[0],'arb')\n",
    "# مرادفات الكلمة الاولي باللغة العربية Synset('deity.n.01')"
   ]
  },
  {
   "cell_type": "code",
   "execution_count": 25,
   "metadata": {
    "collapsed": false
   },
   "outputs": [
    {
     "data": {
      "text/plain": [
       "['الله', 'اللَه']"
      ]
     },
     "execution_count": 25,
     "metadata": {},
     "output_type": "execute_result"
    }
   ],
   "source": [
    "lema_name(syns[1],'arb')\n",
    "# مرادفات الكلمة التانية باللغة العربية  Synset('allah.n.01')"
   ]
  },
  {
   "cell_type": "code",
   "execution_count": 26,
   "metadata": {
    "collapsed": false
   },
   "outputs": [
    {
     "data": {
      "text/plain": [
       "['الرحمن',\n",
       " 'القادر',\n",
       " 'الكريم',\n",
       " 'الحميد',\n",
       " 'الرحيم',\n",
       " 'اللطيف',\n",
       " 'الوهاب',\n",
       " 'الرزاق',\n",
       " 'المجيد',\n",
       " 'السلام']"
      ]
     },
     "execution_count": 26,
     "metadata": {},
     "output_type": "execute_result"
    }
   ],
   "source": [
    "#اذن يمكنا البحث في الويكي بديا عن كلمة الله وعن\n",
    "#الخالِق', 'الرَّبّ', 'الله', 'المعْبُود', 'الواجِد', 'الواحِد','الرحمن','الكريم','القادر','الحميد','الرحيم', 'النبي','الوهاب','المجيد', 'الرزاق', 'الغني'\n",
    "def syns_w2v_list(syns_w2v):\n",
    "    w2v_word=[]\n",
    "    i=0\n",
    "    for w in syns_w2v:\n",
    "        w2v_word.append(syns_w2v[i][0])\n",
    "        i +=1\n",
    "    return w2v_word\n",
    "    \n",
    "syns_w2v_list(syns_w2v)"
   ]
  },
  {
   "cell_type": "code",
   "execution_count": 33,
   "metadata": {
    "collapsed": false
   },
   "outputs": [
    {
     "data": {
      "text/plain": [
       "['الخالِق',\n",
       " 'الرَّبّ',\n",
       " 'الله',\n",
       " 'المعْبُود',\n",
       " 'الواجِد',\n",
       " 'الواحِد',\n",
       " 'الله',\n",
       " 'اللَه']"
      ]
     },
     "execution_count": 33,
     "metadata": {},
     "output_type": "execute_result"
    }
   ],
   "source": [
    "def syns_wordnet_list(syns,lang):\n",
    "    \n",
    "    wordnet_word=[]\n",
    "    i=0\n",
    "    for syn in syns:\n",
    "        lema_names=lema_name(syns[i],lang)\n",
    "        for name in lema_names:\n",
    "            \n",
    "            wordnet_word.append(name)\n",
    "        i +=1\n",
    "    return wordnet_word\n",
    "\n",
    "syns_wordnet_list(syns,'arb')\n",
    "    "
   ]
  },
  {
   "cell_type": "code",
   "execution_count": 28,
   "metadata": {
    "collapsed": true
   },
   "outputs": [],
   "source": [
    "# البحث في الويكي بديا \n",
    "#https://pypi.org/project/Wikipedia-API/0.3.5/"
   ]
  },
  {
   "cell_type": "code",
   "execution_count": 29,
   "metadata": {
    "collapsed": false
   },
   "outputs": [],
   "source": [
    "import wikipediaapi\n"
   ]
  },
  {
   "cell_type": "code",
   "execution_count": 37,
   "metadata": {
    "collapsed": false
   },
   "outputs": [
    {
     "data": {
      "text/plain": [
       "'Allah (; Arabic: الله\\u200e, translit. Allāh, IPA: [ɑɫˈɫɑː(h)] ( listen)) is the Arabic word for God in Abrahamic religions. In the English language, the word generally refers to God in Islam. The word is thought to be derived by contraction from al-ilāh, which means \"the god\", and is related to El and Elah, the Hebrew and Aramaic words for God.\\nThe word Allah has been used by Arabic people of different religions since pre-Islamic times. More specifically, it has been used as a term for God by Muslims (both Arab and non-Arab) and Arab Christians. It is also often, albeit not exclusively, used in this way by Bábists, Bahá\\'ís, Mandaeans, Indonesian and Maltese Christians, and Mizrahi Jews. Similar usage by Christians and Sikhs in West Malaysia has recently led to political and legal controversies.\\n\\nEtymology\\nThe etymology of the word Allāh has been discussed extensively by classical Arab philologists. Grammarians of the Basra school regarded it as either formed \"spontaneously\" (murtajal) or as the definite form of lāh (from the verbal root lyh with the meaning of \"lofty\" or \"hidden\"). Others held that it was borrowed from Syriac or Hebrew, but most considered it to be derived from a contraction of the Arabic definite article al- \"the\" and ilāh \"deity, god\" to al-lāh meaning \"the deity\", or \"the God\". The majority of modern scholars subscribe to the latter theory, and view the loanword hypothesis with skepticism.\\nCognates of the name \"Allāh\" exist in other Semitic languages, including Hebrew and Aramaic. The corresponding Aramaic form is Elah (אלה), but its emphatic state is Elaha (אלהא). It is written as ܐܠܗܐ (ʼĔlāhā) in Biblical Aramaic and ܐܲܠܵܗܵܐ (ʼAlâhâ) in Syriac as used by the Assyrian Church, both meaning simply \"God\". Biblical Hebrew mostly uses the plural (but functional singular) form Elohim (אלהים\\u202c), but more rarely it also uses the singular form Eloah (אלוהּ\\u202c).\\n\\nUsage\\nPre-Islamic Arabians\\nRegional variants of the word Allah occur in both pagan and Christian pre-Islamic inscriptions. Different theories have been proposed regarding the role of Allah in pre-Islamic polytheistic cults. Some authors have suggested that polytheistic Arabs used the name as a reference to a creator god or a supreme deity of their pantheon. The term may have been vague in the Meccan religion. According to one hypothesis, which goes back to Julius Wellhausen, Allah (the supreme deity of the tribal federation around Quraysh) was a designation that consecrated the superiority of Hubal (the supreme deity of Quraysh) over the other gods. However, there is also evidence that Allah and Hubal were two distinct deities. According to that hypothesis, the Kaaba was first consecrated to a supreme deity named Allah and then hosted the pantheon of Quraysh after their conquest of Mecca, about a century before the time of Muhammad. Some inscriptions seem to indicate the use of Allah as a name of a polytheist deity centuries earlier, but we know nothing precise about this use. Some scholars have suggested that Allah may have represented a remote creator god who was gradually eclipsed by more particularized local deities. There is disagreement on whether Allah played a major role in the Meccan religious cult. No iconic representation of Allah is known to have existed. Muhammad\\'s father\\'s name was ʿAbd-Allāh meaning \"the slave of Allāh\".\\n\\nChristianity\\nThe Aramaic word for \"God\" in the language of Assyrian Christians is ʼĔlāhā, or Alaha. Arabic-speakers of all Abrahamic faiths, including Christians and Jews, use the word \"Allah\" to mean \"God\". The Christian Arabs of today have no other word for \"God\" than \"Allah\". (Even the Arabic-descended Maltese language of Malta, whose population is almost entirely Roman Catholic, uses Alla for \"God\".) Arab Christians, for example, use the terms Allāh al-ab (الله الأب) for God the Father, Allāh al-ibn (الله الابن) for God the Son, and Allāh al-rūḥ al-quds (الله الروح القدس) for God the Holy Spirit. (See God in Christianity for the Christian concept of God.)\\nArab Christians have used two forms of invocations that were affixed to the beginning of their written works. They adopted the Muslim bismillāh, and also created their own Trinitized bismillāh as early as the 8th century. The Muslim bismillāh reads: \"In the name of God, the Compassionate, the Merciful.\" The Trinitized bismillāh reads: \"In the name of Father and the Son and the Holy Spirit, One God.\" The Syriac, Latin and Greek invocations do not have the words \"One God\" at the end. This addition was made to emphasize the monotheistic aspect of Trinitarian belief and also to make it more palatable to Muslims.\\nAccording to Marshall Hodgson, it seems that in the pre-Islamic times, some Arab Christians made pilgrimage to the Kaaba, a pagan temple at that time, honoring Allah there as God the Creator.\\nSome archaeological excavation quests have led to the discovery of ancient pre-Islamic inscriptions and tombs made by Arab Christians in the ruins of a church at Umm el-Jimal in Northern Jordan, which contained references to Allah as the proper name of God, and some of the graves contained names such as \"Abd Allah\" which means \"the servant/slave of Allah\".\\nThe name Allah can be found countless times in the reports and the lists of names of Christian martyrs in South Arabia, as reported by antique Syriac documents of the names of those martyrs from the era of the Himyarite and Aksumite kingdoms.\\nA Christian leader named Abd Allah ibn Abu Bakr ibn Muhammad was martyred in Najran in 523, as he had worn a ring that said \"Allah is my lord\".\\nIn an inscription of Christian martyrion dated back to 512, references to Allah can be found in both Arabic and Aramaic, which called him \"Allah\" and \"Alaha\", and the inscription starts with the statement \"By the Help of Allah\".\\nIn pre-Islamic Gospels, the name used for God was \"Allah\", as evidenced by some discovered Arabic versions of the New Testament written by Arab Christians during the pre-Islamic era in Northern and Southern Arabia.\\nPre-Islamic Arab Christians have been reported to have raised the battle cry \"Ya La Ibad Allah\" (O slaves of Allah) to invoke each other into battle.\\n\"Allah\" was also mentioned in pre-Islamic Christian poems by some Ghassanid and Tanukhid poets in Syria and Northern Arabia.\\n\\nIslam\\nIn Islam, Allah is the unique, omnipotent and only deity and creator of the universe and is equivalent to God in other Abrahamic religions.\\nAccording to Islamic belief, Allah is the most common word to represent God, and humble submission to his will, divine ordinances and commandments is the pivot of the Muslim faith. \"He is the only God, creator of the universe, and the judge of humankind.\" \"He is unique (wāḥid) and inherently one (aḥad), all-merciful and omnipotent.\" The Qur\\'an declares \"the reality of Allah, His inaccessible mystery, His various names, and His actions on behalf of His creatures.\"\\nIn Islamic tradition, there are 99 Names of God (al-asmā’ al-ḥusná lit. meaning: \\'the best names\\' or \\'the most beautiful names\\'), each of which evoke a distinct characteristic of Allah. All these names refer to Allah, the supreme and all-comprehensive divine name. Among the 99 names of God, the most famous and most frequent of these names are \"the Merciful\" (al-Raḥmān) and \"the Compassionate\" (al-Raḥīm).\\nMost Muslims use the untranslated Arabic phrase in shā’ Allāh (meaning \\'if God wills\\') after references to future events. Muslim discursive piety encourages beginning things with the invocation of bismillāh (meaning \\'in the name of God\\').\\nThere are certain phrases in praise of God that are favored by Muslims, including \"Subḥān Allāh\" (Holiness be to God), \"al-ḥamdu lillāh\" (Praise be to God), \"lā ilāha illā Allāh\" (There is no deity but God) and \"Allāhu akbar\" (God is greater) as a devotional exercise of remembering God (dhikr). In a Sufi practice known as dhikr Allah (lit. remembrance of God), the Sufi repeats and contemplates on the name Allah or other divine names while controlling his or her breath.\\nAccording to Gerhard Böwering, in contrast with pre-Islamic Arabian polytheism, God in Islam does not have associates and companions, nor is there any kinship between God and jinn. Pre-Islamic pagan Arabs believed in a blind, powerful, inexorable and insensible fate over which man had no control. This was replaced with the Islamic notion of a powerful but provident and merciful God.\\nAccording to Francis Edward Peters, \"The Qur’ān insists, Muslims believe, and historians affirm that Muhammad and his followers worship the same God as the Jews (29:46). The Qur’an\\'s Allah is the same Creator God who covenanted with Abraham\". Peters states that the Qur\\'an portrays Allah as both more powerful and more remote than Yahweh, and as a universal deity, unlike Yahweh who closely follows Israelites.\\n\\nAs a loanword\\nEnglish and other European languages\\nThe history of the name Allāh in English was probably influenced by the study of comparative religion in the 19th century; for example, Thomas Carlyle (1840) sometimes used the term Allah but without any implication that Allah was anything different from God. However, in his biography of Muḥammad (1934), Tor Andræ always used the term Allah, though he allows that this \"conception of God\" seems to imply that it is different from that of the Jewish and Christian theologies.\\nLanguages which may not commonly use the term Allah to denote God may still contain popular expressions which use the word. For example, because of the centuries long Muslim presence in the Iberian Peninsula, the word ojalá in the Spanish language and oxalá in the Portuguese language exist today, borrowed from Arabic (Arabic: إن شاء الله). This phrase literally means \\'if God wills\\' (in the sense of \"I hope so\"). The German poet Mahlmann used the form \"Allah\" as the title of a poem about the ultimate deity, though it is unclear how much Islamic thought he intended to convey.\\nSome Muslims leave the name \"Allāh\" untranslated in English. The word has also been applied to certain living human beings as personifications of the term and concept.\\n\\nMalaysian and Indonesian language\\nChristians in Malaysia and Indonesia use Allah to refer to God in the Malaysian and Indonesian languages (both of them standardized forms of the Malay language). Mainstream Bible translations in the language use Allah as the translation of Hebrew Elohim (translated in English Bibles as \"God\"). This goes back to early translation work by Francis Xavier in the 16th century. The first dictionary of Dutch-Malay by Albert Cornelius Ruyl, Justus Heurnius, and Caspar Wiltens in 1650 (revised edition from 1623 edition and 1631 Latin edition) recorded \"Allah\" as the translation of the Dutch word \"Godt\". Ruyl also translated the Gospel of Matthew in 1612 into the Malay language (an early Bible translation into a non-European language, made a year after the publication of the King James Version), which was printed in the Netherlands in 1629. Then he translated the Gospel of Mark, published in 1638.\\nThe government of Malaysia in 2007 outlawed usage of the term Allah in any other but Muslim contexts, but the Malayan High Court in 2009 revoked the law, ruling it unconstitutional. While Allah had been used for the Christian God in Malay for more than four centuries, the contemporary controversy was triggered by usage of Allah by the Roman Catholic newspaper The Herald. The government appealed the court ruling, and the High Court suspended implementation of its verdict until the hearing of the appeal. In October 2013 the court ruled in favor of the government\\'s ban. In early 2014 the Malaysian government confiscated more than 300 bibles for using the word to refer to the Christian God in Peninsular Malaysia. However, the use of Allah is not prohibited in the two Malaysian states of Sabah and Sarawak. The main reason it is not prohibited in these two states is that usage has been long-established and local Alkitab (Bibles) have been widely distributed freely in East Malaysia without restrictions for years. Both states also do not have similar Islamic state laws as those in West Malaysia.\\nIn reaction to some media criticism, the Malaysian government has introduced a \"10-point solution\" to avoid confusion and misleading information. The 10-point solution is in line with the spirit of the 18- and 20-point agreements of Sarawak and Sabah.\\n\\nIn other scripts and languages\\nAllāh in other languages that use Arabic script is spelled in the same way. This includes Urdu, Persian/Dari, Uyghur among others.\\nAssamese, Bengali: আল্লাহ Allah\\nBosnian: Allah\\nChinese (Mandarin): 真主 Zhēnzhǔ (semantic translation as \"the true lord\"), 安拉 Ānlā, 阿拉 Ālā; or 胡大 Húdà (Khoda, from Farsi: خدا \"God\")\\nCzech, Slovak: Alláh\\nGreek: Αλλάχ Allách\\nFilipino: Alā or Allah\\nHebrew: אללה\\u202c Allah\\nHindi: अल्लाह Allāh\\nMalayalam: അള്ളാഹ് Aḷḷāh\\nJapanese: アラー Arā, アッラー Arrā, アッラーフ Arrāfu\\nLatvian: Allāhs\\nMaltese: Alla\\nKorean: 알라 Alla\\nPolish: Allah, also archaic Allach or Ałłach\\nRussian, Ukrainian, Bulgarian: Алла́х Allakh\\nSerbian, Belarusian, Macedonian: Алах Alah\\nSpanish, Portuguese: Alá\\nSylheti: আল্লা Alla\\nThai: อัลลอฮ์ Anláw\\nPunjabi (Gurmukhi): ਅੱਲਾਹ Allāh, archaic ਅਲਹੁ Alahu (in Sikh scriptures)\\nTurkish: Allah\\nVietnamese: Thánh A-la\\n\\nTypography\\nThe word Allāh is always written without an alif to spell the ā vowel. This is because the spelling was settled before Arabic spelling started habitually using alif to spell ā. However, in vocalized spelling, a small diacritic alif is added on top of the shaddah to indicate the pronunciation.\\nOne exception may be in the pre-Islamic Zabad inscription, where it ends with an ambiguous sign that may be a lone-standing h with a lengthened start, or may be a non-standard conjoined l-h:-\\nالاه: This reading would be Allāh spelled phonetically with alif for the ā.\\nالإله: This reading would be al-Ilāh = \\'the god\\' (an older form, without contraction), by older spelling practice without alif for ā.\\nMany Arabic type fonts feature special ligatures for Allah.\\n\\nUnicode\\nUnicode has a codepoint reserved for Allāh, ﷲ\\u202c = U+FDF2, in the Arabic Presentation Forms-A block, which exists solely for \"compatibility with some older, legacy character sets that encoded presentation forms directly\"; this is discouraged for new text. Instead, the word Allāh should be represented by its individual Arabic letters, while modern font technologies will render the desired ligature.\\nThe calligraphic variant of the word used as the Coat of arms of Iran is encoded in Unicode, in the Miscellaneous Symbols range, at codepoint U+262B (☫).\\n\\nSee also\\nAllah as moon god\\nAbdullah (name)\\nAhura Mazda\\nNames of God\\nJehovah\\n\\nNotes\\nReferences\\nThe Unicode Consortium, Unicode Standard 5.0, Addison-Wesley, 2006, ISBN 978-0-321-48091-0, About the Unicode Standard Version 5.0 Book\\n\\nExternal links\\nNames of Allah with Meaning on Website, Flash, and Mobile Phone Software\\nConcept of God (Allah) in Islam\\nThe Concept of Allāh According to the Qur\\'an by Abdul Mannan Omar\\nAllah, the Unique Name of God\\nTypography\\nArabic Fonts and Mac OS X\\nPrograms for Arabic in Mac OS X'"
      ]
     },
     "execution_count": 37,
     "metadata": {},
     "output_type": "execute_result"
    }
   ],
   "source": [
    "\n",
    "def wikiperdia_text(word,lang):\n",
    "    \n",
    "    wiki_wiki = wikipediaapi.Wikipedia(\n",
    "            language=lang,\n",
    "            extract_format=wikipediaapi.ExtractFormat.WIKI\n",
    "    )\n",
    "\n",
    "    p_wiki = wiki_wiki.page(word)\n",
    "    return p_wiki.text\n",
    "\n",
    "wikiperdia_text(\"الله\",'en')"
   ]
  },
  {
   "cell_type": "code",
   "execution_count": null,
   "metadata": {
    "collapsed": true
   },
   "outputs": [],
   "source": []
  },
  {
   "cell_type": "code",
   "execution_count": null,
   "metadata": {
    "collapsed": true
   },
   "outputs": [],
   "source": []
  }
 ],
 "metadata": {
  "celltoolbar": "Raw Cell Format",
  "kernelspec": {
   "display_name": "Python 3",
   "language": "python",
   "name": "python3"
  },
  "language_info": {
   "codemirror_mode": {
    "name": "ipython",
    "version": 3
   },
   "file_extension": ".py",
   "mimetype": "text/x-python",
   "name": "python",
   "nbconvert_exporter": "python",
   "pygments_lexer": "ipython3",
   "version": "3.6.3"
  }
 },
 "nbformat": 4,
 "nbformat_minor": 2
}
